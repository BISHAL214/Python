{
 "cells": [
  {
   "cell_type": "code",
   "execution_count": 5,
   "metadata": {},
   "outputs": [
    {
     "data": {
      "text/plain": [
       "<function __main__.Graph.plot1()>"
      ]
     },
     "execution_count": 5,
     "metadata": {},
     "output_type": "execute_result"
    }
   ],
   "source": [
    "import numpy as np\n",
    "import matplotlib.pyplot as plt\n",
    "class Graph:\n",
    "    def plot1():\n",
    "        x_axis = np.array([32,45,63,71,75,94])\n",
    "        y_axis = np.array([12,34,56,73,68,84])\n",
    "        z_axis = np.array([23,34,56,76,87,90])\n",
    "        f = plt.figure()\n",
    "        f.set_figwidth(10)\n",
    "        f.set_figheight(4) \n",
    "        plt.plot(x_axis, linestyle='dotted',marker=\"o\",mfc=\"blue\")\n",
    "        plt.plot(y_axis,linestyle='dashed',marker=\"o\",mfc=\"red\")\n",
    "        plt.plot(z_axis,linestyle='dashdot',marker=\"o\",mfc=\"green\")\n",
    "        plt.show()\n",
    "Graph.plot1"
   ]
  }
 ],
 "metadata": {
  "kernelspec": {
   "display_name": "Python 3",
   "language": "python",
   "name": "python3"
  },
  "language_info": {
   "codemirror_mode": {
    "name": "ipython",
    "version": 3
   },
   "file_extension": ".py",
   "mimetype": "text/x-python",
   "name": "python",
   "nbconvert_exporter": "python",
   "pygments_lexer": "ipython3",
   "version": "3.10.7"
  },
  "orig_nbformat": 4,
  "vscode": {
   "interpreter": {
    "hash": "a9cff5a362bc38ef45d817ae74b1af54d6a076e3d773891282bce078b815ba34"
   }
  }
 },
 "nbformat": 4,
 "nbformat_minor": 2
}

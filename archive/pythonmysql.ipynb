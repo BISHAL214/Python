{
 "cells": [
  {
   "cell_type": "code",
   "execution_count": 2,
   "metadata": {},
   "outputs": [],
   "source": [
    "import mysql.connector\n",
    "\n"
   ]
  },
  {
   "cell_type": "code",
   "execution_count": 6,
   "metadata": {},
   "outputs": [],
   "source": [
    "import mysql.connector\n",
    "\n",
    "mydb = mysql.connector.connect(\n",
    "  host=\"localhost\",\n",
    "  user=\"root\",\n",
    "  password=\"\"\n",
    ")\n",
    "\n",
    "xyz = mydb.cursor()\n",
    "\n",
    "xyz.execute(\"CREATE DATABASE Bishal\")"
   ]
  },
  {
   "cell_type": "code",
   "execution_count": 8,
   "metadata": {},
   "outputs": [
    {
     "name": "stdout",
     "output_type": "stream",
     "text": [
      "('bishal',)\n",
      "('information_schema',)\n",
      "('mysql',)\n",
      "('performance_schema',)\n",
      "('phpmyadmin',)\n",
      "('sit_ece',)\n",
      "('test',)\n"
     ]
    }
   ],
   "source": [
    "import mysql.connector\n",
    "\n",
    "mydb = mysql.connector.connect(\n",
    "  host=\"localhost\",\n",
    "  user=\"root\",\n",
    "  password=\"\"\n",
    ")\n",
    "\n",
    "xyz = mydb.cursor()\n",
    "\n",
    "xyz.execute(\"SHOW DATABASES\")\n",
    "\n",
    "for x in xyz:\n",
    "    print(x)"
   ]
  },
  {
   "cell_type": "code",
   "execution_count": 1,
   "metadata": {},
   "outputs": [
    {
     "name": "stdout",
     "output_type": "stream",
     "text": [
      "1 record inserted.\n"
     ]
    }
   ],
   "source": [
    "import mysql.connector\n",
    "\n",
    "mydb = mysql.connector.connect(\n",
    "  host=\"localhost\",\n",
    "  user=\"root\",\n",
    "  password=\"\",\n",
    "  database=\"bishal\"\n",
    ")\n",
    "\n",
    "xyz = mydb.cursor()\n",
    "\n",
    "sql = \"INSERT INTO students_info (Name, Roll, Address, Age, Gender) VALUES (%s, %s, %s, %s, %s)\"\n",
    "val1 = (input(\"Enter The First Value = > \"))\n",
    "val2 = (input(\"Enter The Second Value = > \"))\n",
    "val3 = (input(\"Enter The Third Value = > \"))\n",
    "val4 = (input(\"Enter The Fourth Value = > \"))\n",
    "val5 = (input(\"Enter The Fifth Value = > \"))\n",
    "\n",
    "val = (val1, val2, val3, val4, val5)\n",
    "xyz.execute(sql, val)\n",
    "\n",
    "mydb.commit()\n",
    "\n",
    "print(xyz.rowcount, \"record inserted.\")"
   ]
  },
  {
   "cell_type": "code",
   "execution_count": 2,
   "metadata": {},
   "outputs": [
    {
     "name": "stdout",
     "output_type": "stream",
     "text": [
      "('bishal', '10', 'slg', '19', 'male')\n",
      "('rohan', '2', 'slg', '19', 'trans')\n",
      "('xyz', '21', 'kolkata', '20', 'male')\n",
      "('bcd', '12', 'sdvm sv', '18', 'mnbdv')\n"
     ]
    }
   ],
   "source": [
    "import mysql.connector\n",
    "\n",
    "mydb = mysql.connector.connect(\n",
    "  host=\"localhost\",\n",
    "  user=\"root\",\n",
    "  password=\"\",\n",
    "  database=\"bishal\"\n",
    ")\n",
    "\n",
    "xyz = mydb.cursor()\n",
    "\n",
    "xyz.execute(\"SELECT * FROM students_info\")\n",
    "\n",
    "myresult = xyz.fetchall()\n",
    "\n",
    "for x in myresult:\n",
    "  print(x)"
   ]
  },
  {
   "cell_type": "code",
   "execution_count": 3,
   "metadata": {},
   "outputs": [
    {
     "name": "stdout",
     "output_type": "stream",
     "text": [
      "('bishal', 'slg')\n",
      "('rohan', 'slg')\n",
      "('xyz', 'kolkata')\n",
      "('bcd', 'sdvm sv')\n"
     ]
    }
   ],
   "source": [
    "import mysql.connector\n",
    "\n",
    "mydb = mysql.connector.connect(\n",
    "  host=\"localhost\",\n",
    "  user=\"root\",\n",
    "  password=\"\",\n",
    "  database=\"bishal\"\n",
    ")\n",
    "\n",
    "xyz = mydb.cursor()\n",
    "\n",
    "xyz.execute(\"SELECT Name, Address FROM students_info\")\n",
    "\n",
    "myresult = xyz.fetchall()\n",
    "\n",
    "for x in myresult:\n",
    "  print(x)"
   ]
  },
  {
   "cell_type": "code",
   "execution_count": 7,
   "metadata": {},
   "outputs": [
    {
     "name": "stdout",
     "output_type": "stream",
     "text": [
      "('bishal', '10', 'slg', '19', 'male')\n"
     ]
    }
   ],
   "source": [
    "import mysql.connector\n",
    "\n",
    "mydb = mysql.connector.connect(\n",
    "  host=\"localhost\",\n",
    "  user=\"root\",\n",
    "  password=\"\",\n",
    "  database=\"bishal\"\n",
    ")\n",
    "\n",
    "xyz = mydb.cursor()\n",
    "\n",
    "xyz.execute(\"SELECT * FROM students_info\")\n",
    "\n",
    "myresult = xyz.fetchone()\n",
    "\n",
    "print(myresult)"
   ]
  },
  {
   "cell_type": "code",
   "execution_count": 8,
   "metadata": {},
   "outputs": [
    {
     "name": "stdout",
     "output_type": "stream",
     "text": [
      "('bishal', '10', 'slg', '19', 'male')\n",
      "('rohan', '2', 'slg', '19', 'trans')\n"
     ]
    }
   ],
   "source": [
    "import mysql.connector\n",
    "\n",
    "mydb = mysql.connector.connect(\n",
    "  host=\"localhost\",\n",
    "  user=\"root\",\n",
    "  password=\"\",\n",
    "  database=\"bishal\"\n",
    ")\n",
    "\n",
    "xyz = mydb.cursor()\n",
    "\n",
    "sql = \"SELECT * FROM students_info WHERE Address ='slg'\"\n",
    "\n",
    "xyz.execute(sql)\n",
    "\n",
    "myresult = xyz.fetchall()\n",
    "\n",
    "for x in myresult:\n",
    "  print(x)"
   ]
  },
  {
   "cell_type": "code",
   "execution_count": 9,
   "metadata": {},
   "outputs": [
    {
     "name": "stdout",
     "output_type": "stream",
     "text": [
      "('xyz', '21', 'kolkata', '20', 'male')\n"
     ]
    }
   ],
   "source": [
    "import mysql.connector\n",
    "\n",
    "mydb = mysql.connector.connect(\n",
    "  host=\"localhost\",\n",
    "  user=\"root\",\n",
    "  password=\"\",\n",
    "  database=\"bishal\"\n",
    ")\n",
    "\n",
    "xyz = mydb.cursor()\n",
    "\n",
    "sql = \"SELECT * FROM students_info WHERE Address Like '%kata%'\"\n",
    "\n",
    "xyz.execute(sql)\n",
    "\n",
    "myresult = xyz.fetchall()\n",
    "\n",
    "for x in myresult:\n",
    "  print(x)"
   ]
  },
  {
   "cell_type": "code",
   "execution_count": 24,
   "metadata": {},
   "outputs": [
    {
     "ename": "ProgrammingError",
     "evalue": "Could not process parameters: str(kolkata), it must be of type list, tuple or dict",
     "output_type": "error",
     "traceback": [
      "\u001b[1;31m---------------------------------------------------------------------------\u001b[0m",
      "\u001b[1;31mProgrammingError\u001b[0m                          Traceback (most recent call last)",
      "Cell \u001b[1;32mIn[24], line 15\u001b[0m\n\u001b[0;32m     12\u001b[0m sql \u001b[39m=\u001b[39m \u001b[39m\"\u001b[39m\u001b[39mSELECT * FROM students_info WHERE Address = \u001b[39m\u001b[39m%e\u001b[39;00m\u001b[39m\"\u001b[39m\n\u001b[0;32m     13\u001b[0m adr \u001b[39m=\u001b[39m (\u001b[39m\"\u001b[39m\u001b[39mkolkata\u001b[39m\u001b[39m\"\u001b[39m)\n\u001b[1;32m---> 15\u001b[0m xyz\u001b[39m.\u001b[39;49mexecute(sql,adr)\n\u001b[0;32m     17\u001b[0m myresult \u001b[39m=\u001b[39m xyz\u001b[39m.\u001b[39mfetchall()\n\u001b[0;32m     19\u001b[0m \u001b[39mfor\u001b[39;00m x \u001b[39min\u001b[39;00m myresult:\n",
      "File \u001b[1;32mc:\\Users\\HP\\AppData\\Local\\Programs\\Python\\Python310\\lib\\site-packages\\mysql\\connector\\cursor_cext.py:317\u001b[0m, in \u001b[0;36mCMySQLCursor.execute\u001b[1;34m(self, operation, params, multi)\u001b[0m\n\u001b[0;32m    314\u001b[0m     \u001b[39mraise\u001b[39;00m ProgrammingError(\u001b[39mstr\u001b[39m(err)) \u001b[39mfrom\u001b[39;00m \u001b[39merr\u001b[39;00m\n\u001b[0;32m    316\u001b[0m \u001b[39mif\u001b[39;00m params:\n\u001b[1;32m--> 317\u001b[0m     prepared \u001b[39m=\u001b[39m \u001b[39mself\u001b[39;49m\u001b[39m.\u001b[39;49m_cnx\u001b[39m.\u001b[39;49mprepare_for_mysql(params)\n\u001b[0;32m    318\u001b[0m     \u001b[39mif\u001b[39;00m \u001b[39misinstance\u001b[39m(prepared, \u001b[39mdict\u001b[39m):\n\u001b[0;32m    319\u001b[0m         \u001b[39mfor\u001b[39;00m key, value \u001b[39min\u001b[39;00m prepared\u001b[39m.\u001b[39mitems():\n",
      "File \u001b[1;32mc:\\Users\\HP\\AppData\\Local\\Programs\\Python\\Python310\\lib\\site-packages\\mysql\\connector\\connection_cext.py:785\u001b[0m, in \u001b[0;36mCMySQLConnection.prepare_for_mysql\u001b[1;34m(self, params)\u001b[0m\n\u001b[0;32m    783\u001b[0m             result[key] \u001b[39m=\u001b[39m \u001b[39mself\u001b[39m\u001b[39m.\u001b[39m_cmysql\u001b[39m.\u001b[39mconvert_to_mysql(value)[\u001b[39m0\u001b[39m]\n\u001b[0;32m    784\u001b[0m \u001b[39melse\u001b[39;00m:\n\u001b[1;32m--> 785\u001b[0m     \u001b[39mraise\u001b[39;00m ProgrammingError(\n\u001b[0;32m    786\u001b[0m         \u001b[39mf\u001b[39m\u001b[39m\"\u001b[39m\u001b[39mCould not process parameters: \u001b[39m\u001b[39m{\u001b[39;00m\u001b[39mtype\u001b[39m(params)\u001b[39m.\u001b[39m\u001b[39m__name__\u001b[39m\u001b[39m}\u001b[39;00m\u001b[39m(\u001b[39m\u001b[39m{\u001b[39;00mparams\u001b[39m}\u001b[39;00m\u001b[39m),\u001b[39m\u001b[39m\"\u001b[39m\n\u001b[0;32m    787\u001b[0m         \u001b[39m\"\u001b[39m\u001b[39m it must be of type list, tuple or dict\u001b[39m\u001b[39m\"\u001b[39m\n\u001b[0;32m    788\u001b[0m     )\n\u001b[0;32m    790\u001b[0m \u001b[39mreturn\u001b[39;00m result\n",
      "\u001b[1;31mProgrammingError\u001b[0m: Could not process parameters: str(kolkata), it must be of type list, tuple or dict"
     ]
    }
   ],
   "source": [
    "import mysql.connector\n",
    "\n",
    "mydb = mysql.connector.connect(\n",
    "  host=\"localhost\",\n",
    "  user=\"root\",\n",
    "  password=\"\",\n",
    "  database=\"bishal\"\n",
    ")\n",
    "\n",
    "xyz = mydb.cursor()\n",
    "\n",
    "sql = \"SELECT * FROM students_info WHERE Address = %s\"\n",
    "adr = (\"kolkata\")\n",
    "\n",
    "xyz.execute(sql,adr)\n",
    "\n",
    "myresult = xyz.fetchall()\n",
    "\n",
    "for x in myresult:\n",
    "  print(x)"
   ]
  },
  {
   "cell_type": "code",
   "execution_count": 23,
   "metadata": {},
   "outputs": [
    {
     "name": "stdout",
     "output_type": "stream",
     "text": [
      "1 record(s) deleted\n"
     ]
    }
   ],
   "source": [
    "import mysql.connector\n",
    "\n",
    "mydb = mysql.connector.connect(\n",
    "  host=\"localhost\",\n",
    "  user=\"root\",\n",
    "  password=\"\",\n",
    "  database=\"bishal\"\n",
    ")\n",
    "\n",
    "xyz = mydb.cursor()\n",
    "\n",
    "sql = \"DELETE FROM students_info WHERE Name = 'bcd'\"\n",
    "\n",
    "xyz.execute(sql)\n",
    "\n",
    "mydb.commit()\n",
    "\n",
    "print(xyz.rowcount, \"record(s) deleted\")"
   ]
  }
 ],
 "metadata": {
  "kernelspec": {
   "display_name": "Python 3",
   "language": "python",
   "name": "python3"
  },
  "language_info": {
   "name": "python",
   "version": "3.10.7"
  },
  "orig_nbformat": 4,
  "vscode": {
   "interpreter": {
    "hash": "a9cff5a362bc38ef45d817ae74b1af54d6a076e3d773891282bce078b815ba34"
   }
  }
 },
 "nbformat": 4,
 "nbformat_minor": 2
}

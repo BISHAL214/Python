{
 "cells": [
  {
   "cell_type": "code",
   "execution_count": 1,
   "metadata": {},
   "outputs": [
    {
     "name": "stdout",
     "output_type": "stream",
     "text": [
      "Package                Version\n",
      "---------------------- -------\n",
      "asttokens              2.2.1\n",
      "backcall               0.2.0\n",
      "colorama               0.4.6\n",
      "comm                   0.1.2\n",
      "cycler                 0.11.0\n",
      "debugpy                1.6.6\n",
      "decorator              5.1.1\n",
      "dnspython              2.3.0\n",
      "executing              1.2.0\n",
      "fonttools              4.34.4\n",
      "ipykernel              6.21.2\n",
      "ipython                8.10.0\n",
      "jedi                   0.18.2\n",
      "jupyter_client         8.0.3\n",
      "jupyter_core           5.2.0\n",
      "kiwisolver             1.4.4\n",
      "matplotlib             3.5.2\n",
      "matplotlib-inline      0.1.6\n",
      "mysql                  0.0.3\n",
      "mysql-connector-python 8.0.32\n",
      "mysqlclient            2.1.1\n",
      "nest-asyncio           1.5.6\n",
      "numpy                  1.24.2\n",
      "packaging              21.3\n",
      "pandas                 1.4.3\n",
      "parso                  0.8.3\n",
      "pickleshare            0.7.5\n",
      "Pillow                 9.2.0\n",
      "pip                    23.0.1\n",
      "platformdirs           3.0.0\n",
      "prompt-toolkit         3.0.36\n",
      "protobuf               3.20.3\n",
      "psutil                 5.9.4\n",
      "pure-eval              0.2.2\n",
      "Pygments               2.14.0\n",
      "pymongo                4.3.3\n",
      "pyparsing              3.0.9\n",
      "python-dateutil        2.8.2\n",
      "PythonTurtle           0.3.2\n",
      "pytz                   2022.1\n",
      "pywin32                305\n",
      "pyzmq                  25.0.0\n",
      "scipy                  1.10.1\n",
      "setuptools             67.3.2\n",
      "six                    1.16.0\n",
      "stack-data             0.6.2\n",
      "tornado                6.2\n",
      "traitlets              5.9.0\n",
      "wcwidth                0.2.6\n",
      "wheel                  0.38.4\n",
      "Note: you may need to restart the kernel to use updated packages.\n"
     ]
    }
   ],
   "source": [
    "pip list"
   ]
  }
 ],
 "metadata": {
  "kernelspec": {
   "display_name": "Python 3",
   "language": "python",
   "name": "python3"
  },
  "language_info": {
   "codemirror_mode": {
    "name": "ipython",
    "version": 3
   },
   "file_extension": ".py",
   "mimetype": "text/x-python",
   "name": "python",
   "nbconvert_exporter": "python",
   "pygments_lexer": "ipython3",
   "version": "3.10.7"
  },
  "orig_nbformat": 4,
  "vscode": {
   "interpreter": {
    "hash": "a9cff5a362bc38ef45d817ae74b1af54d6a076e3d773891282bce078b815ba34"
   }
  }
 },
 "nbformat": 4,
 "nbformat_minor": 2
}
